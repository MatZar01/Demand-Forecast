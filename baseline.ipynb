{
 "cells": [
  {
   "cell_type": "code",
   "id": "initial_id",
   "metadata": {
    "collapsed": true,
    "ExecuteTime": {
     "end_time": "2024-07-08T16:19:40.488359Z",
     "start_time": "2024-07-08T16:19:36.438429Z"
    }
   },
   "source": [
    "import numpy as np\n",
    "import torch\n",
    "from src import get_args\n",
    "\n",
    "CFG_FILE = 'cfgs/default.yml'\n",
    "task_info = get_args(CFG_FILE)"
   ],
   "outputs": [],
   "execution_count": 1
  },
  {
   "metadata": {
    "ExecuteTime": {
     "end_time": "2024-07-08T16:19:44.348063Z",
     "start_time": "2024-07-08T16:19:43.798690Z"
    }
   },
   "cell_type": "code",
   "source": [
    "from src import DataSet\n",
    "Data_manager = DataSet(paths=task_info['DATA_PATH'])\n",
    "data_train = Data_manager.train[:, 1:]\n",
    "data_val = Data_manager.val[:, 1:]"
   ],
   "id": "64a432c67332973",
   "outputs": [
    {
     "name": "stdout",
     "output_type": "stream",
     "text": [
      "[INFO] Data:\n",
      "train: 105105 points\n",
      "val: 45045\n",
      "test: 13860\n",
      "Header: ['record_ID', 'week', 'store_id', 'sku_id', 'total_price', 'base_price', 'is_featured_sku', 'is_display_sku', 'units_sold']\n"
     ]
    }
   ],
   "execution_count": 2
  },
  {
   "metadata": {
    "ExecuteTime": {
     "end_time": "2024-07-08T16:21:08.327725Z",
     "start_time": "2024-07-08T16:21:04.865031Z"
    }
   },
   "cell_type": "code",
   "source": [
    "from sklearn.preprocessing import OneHotEncoder\n",
    "week_encoder = OneHotEncoder()\n",
    "store_id_encoder = OneHotEncoder()\n",
    "sku_id_encoder = OneHotEncoder()\n",
    "weeks = Data_manager.data_merged[:, 1]\n",
    "store_ids = Data_manager.data_merged[:, 2]\n",
    "sku_ids = Data_manager.data_merged[:, 3]"
   ],
   "id": "e9fa9f512b9803a1",
   "outputs": [],
   "execution_count": 3
  },
  {
   "metadata": {
    "ExecuteTime": {
     "end_time": "2024-07-08T16:23:01.649968Z",
     "start_time": "2024-07-08T16:23:01.302593Z"
    }
   },
   "cell_type": "code",
   "source": [
    "unq_weeks = np.unique(weeks, return_counts=True)\n",
    "unq_store_ids = np.unique(store_ids, return_counts=True)\n",
    "unq_sku_ids = np.unique(sku_ids, return_counts=True)"
   ],
   "id": "67e4bfe1e2ef4ed3",
   "outputs": [],
   "execution_count": 4
  },
  {
   "metadata": {
    "ExecuteTime": {
     "end_time": "2024-07-08T16:30:44.248637Z",
     "start_time": "2024-07-08T16:30:44.195451Z"
    }
   },
   "cell_type": "code",
   "source": [
    "week_encoder.fit(weeks.reshape(-1, 1))\n",
    "out_labs = week_encoder.transform(weeks.reshape(-1, 1))"
   ],
   "id": "d8c792659f3309bd",
   "outputs": [],
   "execution_count": 8
  },
  {
   "metadata": {
    "ExecuteTime": {
     "end_time": "2024-07-08T16:50:28.006985Z",
     "start_time": "2024-07-08T16:50:27.557289Z"
    }
   },
   "cell_type": "code",
   "source": [
    "wks = np.array([x.split('/') for x in weeks])\n",
    "ys = np.unique(wks[:, 2], return_counts=True)\n",
    "ms = np.unique(wks[:, 1], return_counts=True)\n",
    "ds = np.unique(wks[:, 0], return_counts=True)"
   ],
   "id": "c0a94cd333bef0ac",
   "outputs": [],
   "execution_count": 17
  }
 ],
 "metadata": {
  "kernelspec": {
   "display_name": "Python 3",
   "language": "python",
   "name": "python3"
  },
  "language_info": {
   "codemirror_mode": {
    "name": "ipython",
    "version": 2
   },
   "file_extension": ".py",
   "mimetype": "text/x-python",
   "name": "python",
   "nbconvert_exporter": "python",
   "pygments_lexer": "ipython2",
   "version": "2.7.6"
  }
 },
 "nbformat": 4,
 "nbformat_minor": 5
}
