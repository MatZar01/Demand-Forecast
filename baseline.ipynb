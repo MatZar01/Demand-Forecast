{
 "cells": [
  {
   "cell_type": "code",
   "id": "initial_id",
   "metadata": {
    "collapsed": true,
    "ExecuteTime": {
     "end_time": "2024-07-08T14:23:41.094754Z",
     "start_time": "2024-07-08T14:23:39.143739Z"
    }
   },
   "source": [
    "import numpy as np\n",
    "import torch\n",
    "from src import get_args\n",
    "\n",
    "CFG_FILE = 'cfgs/default.yml'\n",
    "task_info = get_args(CFG_FILE)"
   ],
   "outputs": [],
   "execution_count": 1
  },
  {
   "metadata": {
    "ExecuteTime": {
     "end_time": "2024-07-08T14:24:44.713708Z",
     "start_time": "2024-07-08T14:23:45.998671Z"
    }
   },
   "cell_type": "code",
   "source": [
    "from src import DataSet\n",
    "Data_manager = DataSet(paths=task_info['DATA_PATH'])"
   ],
   "id": "64a432c67332973",
   "outputs": [
    {
     "name": "stdout",
     "output_type": "stream",
     "text": [
      "[INFO] Data -- train: 105105 points\n",
      "val: 45045\n",
      "test: 13860\n",
      "Header: ['record_ID', 'week', 'store_id', 'sku_id', 'total_price', 'base_price', 'is_featured_sku', 'is_display_sku', 'units_sold']\n"
     ]
    }
   ],
   "execution_count": 2
  },
  {
   "metadata": {
    "ExecuteTime": {
     "end_time": "2024-07-08T14:24:55.546252Z",
     "start_time": "2024-07-08T14:24:55.540574Z"
    }
   },
   "cell_type": "code",
   "source": [
    "data_train = Data_manager.train[:, 1:]\n",
    "data_val = Data_manager.val[:, 1:]"
   ],
   "id": "e9fa9f512b9803a1",
   "outputs": [],
   "execution_count": 3
  },
  {
   "metadata": {},
   "cell_type": "code",
   "outputs": [],
   "execution_count": null,
   "source": "",
   "id": "67e4bfe1e2ef4ed3"
  }
 ],
 "metadata": {
  "kernelspec": {
   "display_name": "Python 3",
   "language": "python",
   "name": "python3"
  },
  "language_info": {
   "codemirror_mode": {
    "name": "ipython",
    "version": 2
   },
   "file_extension": ".py",
   "mimetype": "text/x-python",
   "name": "python",
   "nbconvert_exporter": "python",
   "pygments_lexer": "ipython2",
   "version": "2.7.6"
  }
 },
 "nbformat": 4,
 "nbformat_minor": 5
}
