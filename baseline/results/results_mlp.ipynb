{
 "cells": [
  {
   "cell_type": "code",
   "execution_count": null,
   "metadata": {
    "pycharm": {
     "is_executing": true
    },
    "tags": []
   },
   "outputs": [],
   "source": [
    "import pickle as pkl\n",
    "import matplotlib.pyplot as plt\n",
    "import numpy as np\n",
    "import seaborn as sns\n",
    "\n",
    "path_mlp = '/home/mateusz/Desktop/Demand-Forecast/baseline/results_mlp/L_15_Q_False_EM_False.pkl'\n",
    "\n",
    "def get_data(path):\n",
    "    data = pkl.load(open(path, 'rb'))\n",
    "    stores = []\n",
    "    skus = []\n",
    "    rmses = []\n",
    "\n",
    "    for key in data.keys():\n",
    "        run = data[key]\n",
    "        stores.append(key.split('_')[0])\n",
    "        skus.append(key.split('_')[1])\n",
    "        rmses.append(run['rmse_test'])\n",
    "\n",
    "    stores_strip = list(set(stores))\n",
    "    skus_strip = list(set(skus))\n",
    "    return stores, stores_strip, skus, skus_strip, rmses, data\n",
    "\n",
    "data_mlp = get_data(path_mlp)"
   ]
  },
  {
   "cell_type": "code",
   "execution_count": 2,
   "metadata": {
    "collapsed": false,
    "jupyter": {
     "outputs_hidden": false
    }
   },
   "outputs": [],
   "source": [
    "def get_out_matrix(data):\n",
    "    out_matrix = np.zeros((len(data[1]), len(data[3])))\n",
    "    for i in range(len(data[1])):\n",
    "        for k in range(len(data[3])):\n",
    "            out_matrix[i][k] = data[-1][f'{data[1][i]}_{data[3][k]}']['rmse_test']\n",
    "    return out_matrix\n",
    "\n",
    "\n",
    "out_mlp = get_out_matrix(data_mlp)"
   ]
  },
  {
   "cell_type": "code",
   "execution_count": null,
   "metadata": {
    "collapsed": false,
    "jupyter": {
     "outputs_hidden": false
    },
    "pycharm": {
     "is_executing": true
    }
   },
   "outputs": [],
   "source": [
    "def show_matrix(matrix, data):\n",
    "    dims = (4.5, 8.27)\n",
    "    plt.rcParams.update({'font.size': .81})\n",
    "    sns.set(font_scale=.71)\n",
    "    fig, ax = plt.subplots(figsize=dims)\n",
    "    ax = sns.heatmap(matrix, xticklabels=data[3], yticklabels=data[1], square=True)\n",
    "    ax.set_xlabel('SKU id')\n",
    "    ax.set_ylabel('Store id')\n",
    "    plt.title('RMSE for store-sku match')\n",
    "    plt.tight_layout()\n",
    "    plt.show()\n",
    "\n",
    "\n",
    "print(f'Decision Trees out matrix:')\n",
    "show_matrix(out_mlp, data_mlp)"
   ]
  },
  {
   "cell_type": "code",
   "execution_count": null,
   "metadata": {},
   "outputs": [],
   "source": []
  }
 ],
 "metadata": {
  "kernelspec": {
   "display_name": "Python 3 (ipykernel)",
   "language": "python",
   "name": "python3"
  },
  "language_info": {
   "codemirror_mode": {
    "name": "ipython",
    "version": 3
   },
   "file_extension": ".py",
   "mimetype": "text/x-python",
   "name": "python",
   "nbconvert_exporter": "python",
   "pygments_lexer": "ipython3",
   "version": "3.9.13"
  }
 },
 "nbformat": 4,
 "nbformat_minor": 4
}
